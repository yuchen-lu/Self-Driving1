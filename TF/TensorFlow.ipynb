{
 "cells": [
  {
   "cell_type": "code",
   "execution_count": 4,
   "metadata": {},
   "outputs": [
    {
     "name": "stdout",
     "output_type": "stream",
     "text": [
      "b'Hello World!'\n"
     ]
    }
   ],
   "source": [
    "#####--Tensor\n",
    "# in tf, data not stored as it, float or strings\n",
    "# as a tensor, hello_constant is a 0-d string tensor\n",
    "# B is a 1-dimensional int32 tensor\n",
    "#B = tf.constant([123,456,789]) \n",
    "\n",
    "\n",
    "#####--Session\n",
    "# an envir for running a graph\n",
    "# creates a session instance, sess, using tf.Session\n",
    "# sess.run() evaluate tensor and turn result\n",
    "\n",
    "import tensorflow as tf\n",
    "\n",
    "# Create TensorFlow object called hello_constant\n",
    "hello_constant = tf.constant('Hello World!')\n",
    "\n",
    "with tf.Session() as sess:\n",
    "    # Run the tf.constant operation in the session\n",
    "    output = sess.run(hello_constant)\n",
    "    print(output)\n",
    "\n",
    "\n"
   ]
  },
  {
   "cell_type": "code",
   "execution_count": 6,
   "metadata": {},
   "outputs": [],
   "source": [
    "# non-constant: tf.placeholder() and feed_dict\n",
    "\n",
    "#####--tf.placeholder()\n",
    "# returns a tensor that gets its alue from data passed to tf.session.run()\n",
    "# allow you to set input before session runs\n",
    "\n",
    "#####---Session's feed_dict\n",
    "# use feed_dict param in tf.session.run() to set placeholder tensor\n",
    "# x being set to \"Hello World\"\n",
    "x = tf.placeholder(tf.string)\n",
    "\n",
    "with tf.Session() as sess:\n",
    "    output = sess.run(x, feed_dict={x:\"Hello World\"})\n",
    "\n",
    "    \n",
    "# set more than one tensor\n",
    "x = tf.placeholder(tf.string)\n",
    "y = tf.placeholder(tf.int32)\n",
    "z = tf.placeholder(tf.float32)\n",
    "\n",
    "with tf.Session() as sess:\n",
    "    output = sess.run(x, feed_dict={x: 'Test String', y:123, z: 45.67}\n",
    "    "
   ]
  },
  {
   "cell_type": "code",
   "execution_count": 10,
   "metadata": {},
   "outputs": [
    {
     "data": {
      "text/plain": [
       "array(123, dtype=int32)"
      ]
     },
     "execution_count": 10,
     "metadata": {},
     "output_type": "execute_result"
    }
   ],
   "source": [
    "#### QUIZ\n",
    "import tensorflow as tf\n",
    "\n",
    "\n",
    "def run():\n",
    "    output = None\n",
    "    x = tf.placeholder(tf.int32)\n",
    "\n",
    "    with tf.Session() as sess:\n",
    "        # TODO: Feed the x tensor 123\n",
    "        output = sess.run(x, feed_dict={x:123})\n",
    "\n",
    "    return output\n",
    "run()\n"
   ]
  },
  {
   "cell_type": "code",
   "execution_count": 13,
   "metadata": {},
   "outputs": [
    {
     "data": {
      "text/plain": [
       "<tf.Tensor 'Sub_3:0' shape=() dtype=int32>"
      ]
     },
     "execution_count": 13,
     "metadata": {},
     "output_type": "execute_result"
    }
   ],
   "source": [
    "## TF with MATH!\n",
    "\n",
    "\n",
    "x = tf.add(5,2)\n",
    "x = tf.subtract(10,4)\n",
    "y = tf.multiply(2,5)\n",
    "\n",
    "# # converting types\n",
    "# tf.subtract( tf.constant(2.0), tf.constant(1))  WRONG!!!\n",
    "\n",
    "tf.subtract( tf.cast(tf.constant(2.0), tf.int32), tf.constant(1))"
   ]
  },
  {
   "cell_type": "code",
   "execution_count": 26,
   "metadata": {},
   "outputs": [
    {
     "name": "stdout",
     "output_type": "stream",
     "text": [
      "4.0\n"
     ]
    }
   ],
   "source": [
    "#### QUIZ\n",
    "import tensorflow as tf\n",
    "\n",
    "# TODO: Convert the following to TensorFlow:\n",
    "x = 10\n",
    "y = 2\n",
    "z = x/y - 1\n",
    "\n",
    "# TODO: Print z from a session\n",
    "\n",
    "x = tf.constant(10)\n",
    "# error!! : x = tf.int32(10)\n",
    "\n",
    "y = tf.constant(2)\n",
    "afterdivide = tf.divide(x,y)\n",
    "#afterint = tf.cast(afterdivide, tf.int32)\n",
    "\n",
    "z = tf.subtract(afterdivide,1)\n",
    "\n",
    "\n",
    "#z = tf.sub(tf.div(x, y), m)\n",
    "\n",
    "with tf.Session() as sess:\n",
    "    \n",
    "    output = sess.run(z)\n",
    "    print(output)"
   ]
  },
  {
   "cell_type": "code",
   "execution_count": null,
   "metadata": {},
   "outputs": [],
   "source": []
  }
 ],
 "metadata": {
  "kernelspec": {
   "display_name": "Python 3",
   "language": "python",
   "name": "python3"
  },
  "language_info": {
   "codemirror_mode": {
    "name": "ipython",
    "version": 3
   },
   "file_extension": ".py",
   "mimetype": "text/x-python",
   "name": "python",
   "nbconvert_exporter": "python",
   "pygments_lexer": "ipython3",
   "version": "3.5.2"
  }
 },
 "nbformat": 4,
 "nbformat_minor": 2
}
