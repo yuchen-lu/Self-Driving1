{
 "cells": [
  {
   "cell_type": "code",
   "execution_count": 11,
   "metadata": {},
   "outputs": [],
   "source": [
    "# -*- coding: utf-8 -*-\n",
    "\"\"\"\n",
    "Created on Thu Nov  2 23:53:45 2017\n",
    "\n",
    "@author: yuchen\n",
    "\"\"\"\n",
    "\n",
    "\n",
    "# coding: utf-8\n",
    "\n",
    "# In[ ]:\n",
    "\n",
    "\n",
    "import matplotlib.pyplot as plt\n",
    "import matplotlib.image as mpimg\n",
    "import cv2\n",
    "import numpy as np\n",
    "from IPython.core.debugger import Pdb\n",
    "get_ipython().magic('matplotlib inline')"
   ]
  },
  {
   "cell_type": "code",
   "execution_count": 12,
   "metadata": {},
   "outputs": [
    {
     "name": "stdout",
     "output_type": "stream",
     "text": [
      "This image is  <class 'numpy.ndarray'> with dimensions: (540, 960, 3)\n"
     ]
    }
   ],
   "source": [
    "image2 = mpimg.imread('test_images/solidWhiteRight.jpg')\n",
    "\n",
    "#plt.imshow(image)\n",
    "#image2 =cv2.imread('test_images/solidWhiteRight.jpg',-1)  # 1,0,-1: color,greyscale, unchanged\n",
    "#image3 =cv2.IMREAD_GRAYSCALE('test_images/solidWhiteRight.jpg')\n",
    "\n",
    "print('This image is ', type(image2),'with dimensions:',image2.shape)\n",
    "\n",
    "#cv2.startWindowThread()\n",
    "\n",
    "\n",
    "#-----------------highlight: waitKey only works for cv.imshow(at least one highGUI)\n",
    "#cv2.imshow('thisistitle',image2)\n",
    "#cv2.waitKey(0)\n",
    "\n",
    "#-----------------highlight: to show img using plt show in the terminal, have to add below\n",
    "#plt.show()\n",
    "\n",
    "\n",
    "#cv2.destroyAllWindows()\n",
    "#plt.imshow(image2)\n",
    "#cv2.waitKey(0)\n",
    "#cv2.destroyALLWindows()\n",
    "#cv2.destoryWindow(<title>)\n",
    "# argument is the time in ms. The function waits for specified ms for any keyboard event. \n",
    "#If you press any key in that time, the program continues. If 0 is passed, it waits indefinitely for a key stroke.\n",
    "\n",
    "\n",
    "\n",
    "\n",
    "# In[ ]:\n",
    "\n",
    "\n",
    "\n",
    "#cv2.inRange() for color selection\n",
    "#cv2.fillPoly() for regions selection\n",
    "#cv2.line() to draw lines on an image given endpoints\n",
    "#cv2.addWeighted() to coadd / overlay two images cv2.cvtColor() to grayscale or change color cv2.imwrite() to output images to file\n",
    "#cv2.bitwise_and() to apply a mask to an image"
   ]
  },
  {
   "cell_type": "code",
   "execution_count": 13,
   "metadata": {},
   "outputs": [],
   "source": [
    "import math\n",
    "\n",
    "def grayscale(img):\n",
    "# grayscale transform\n",
    "# call plt.imshow(gray, cmap='gray') to see\n",
    "    return cv2.cvtColor(image,cv2.COLOR_RGB2GRAY)\n",
    "# if using cv2.imread() to read a img, use BGR2GRAY\n",
    "\n",
    "def canny(img,low_thresh,high_thresh):\n",
    "    return cv2.Canny(img,low_thresh,high_thresh)\n",
    "\n",
    "def gaussian_blur(image,kernel_size):\n",
    "    return cv2.GaussianBlur(image,(kernel_size,kernel_size),0)\n",
    "\n",
    "def region_of_interest(img, vertices):\n",
    "    # only keep image region defined by vertices, rest set to black\n",
    "    mask = np.zeros_like(img)  # define a blank mask to start\n",
    "    if len(img.shape)>2:   # define a 3 channel or 1 channel color to fill the mask\n",
    "        channel_count = img.shape[2]  # 3 or 4 depending on my image\n",
    "        ignore_mask_color=(255,)*channel_count\n",
    "    else:\n",
    "        ignore_mask_color=255\n",
    "        \n",
    "        \n",
    "    cv2.fillPoly(mask, vertices, ignore_mask_color)\n",
    "    #fill pixels inside the polygon define by vertices \n",
    "    # (img, pts, color[, lineType[, shift[, offset]]]) \n",
    "    #pts: array of polygons, each polygon repd by points\n",
    "    \n",
    "    \n",
    "    # return the image only where mask pixels are nonzero\n",
    "    masked_image = cv2.bitwise_and(img,mask) \n",
    "    return masked_image\n",
    "    \n",
    "    \n",
    "def draw_lines(img, lines, color=[255,0,0], thickness=2):\n",
    "    for line in lines:\n",
    "        for x1,y1,x2,y2 in line:\n",
    "            cv2.line(img,(x1,y1),(x2,y2),color,thickness)\n",
    "            \n",
    "\n",
    "def hough_lines(img, rho, theta, threshold, min_line_len, max_line_gap):\n",
    "    # input is output of canny, output is image with hough lines drawn\n",
    "    lines = cv2.HoughLinesP(img, rho, theta, threshold, np.array([]),minLineLength=min_line_len,maxLineGap=max_line_gap)\n",
    "    line_img =np.zeros((img.shape[0],image.shape[1],3), dtype=np.uint8)\n",
    "    draw_lines(line_img,lines)\n",
    "    return line_img\n",
    "\n",
    "\n",
    "def weighted_img(img, initial_img, α=0.8, β=1., λ=0.):\n",
    "    # input is output of hough_lines(), all black with lines\n",
    "    #inital_img is raw\n",
    "    #result =  initial_img * α + img * β + λ\n",
    "    return cv2.addWeighted(initial_img, α, img, β, λ)\n",
    "    \n",
    "def foo(s1):\n",
    "    return \"%s'\" % s1            \n",
    "            \n",
    "            \n",
    "\n",
    "\n"
   ]
  },
  {
   "cell_type": "code",
   "execution_count": 14,
   "metadata": {},
   "outputs": [],
   "source": [
    "# import os\n",
    "# os.listdir(\"test_images/\")  #list all the images\n",
    "\n",
    "# imglist=os.listdir('test_images/')\n",
    "# #print(imglist)\n",
    "# #n=1\n",
    "# for eachimg in imglist:\n",
    "#     #cv2.startWindowThread()    \n",
    "#     #cv2.waitKey(0)\n",
    "# #---------------highlight: how to debug! see cheatsheet for inputs in box\n",
    "# #http://frid.github.io/blog/2014/06/05/python-ipdb-cheatsheet/\n",
    "    \n",
    "      \n",
    "    \n",
    "#     image=mpimg.imread('test_images/'+eachimg)\n",
    "#     grayed_img=grayscale(image)\n",
    "#     plt.figure()\n",
    "    \n",
    "#     print(eachimg)\n",
    "    \n",
    "#     #Pdb().set_trace()\n",
    "\n",
    "#     blurred_img=gaussian_blur(grayed_img,3)\n",
    "    \n",
    "#     cannyed_img=canny(blurred_img,50,150)\n",
    "    \n",
    "#     left_bot = [120, 539]\n",
    "#     right_bot = [890, 539]\n",
    "#     apex = [480, 310]\n",
    "\n",
    "\n",
    "# #------------------------highlight, findpoly input\n",
    "#     vertices = np.array([[left_bot, right_bot, apex]])\n",
    "    \n",
    "#     regioned_img=region_of_interest(cannyed_img,vertices)\n",
    "    \n",
    "    \n",
    "    \n",
    "    \n",
    "#     rho = 1 # distance resolution in pixels of the Hough grid\n",
    "#     theta = np.pi/180 # angular resolution in radians of the Hough grid\n",
    "#     threshold = 15     # minimum number of votes (intersections in Hough grid cell)\n",
    "#     min_line_len = 40  #minimum number of pixels making up a line\n",
    "#     max_line_gap = 20    # maximum gap in pixels between connectable line segments\n",
    "#     #line_image = np.copy(image)*0 # creating a blank to draw lines on\n",
    "\n",
    "#     lines = hough_lines(regioned_img, rho, theta, threshold, min_line_len, max_line_gap)\n",
    "    \n",
    "#     #plt.imshow(regioned_img,cmap='Greys_r')\n",
    "    \n",
    "#     weighted = weighted_img(lines,image2,α=0.8, β=1., λ=0.)\n",
    "#     #yo=str(n)\n",
    "    \n",
    "# #-------------highlight: how to save imgs to a specfic folder\n",
    "#     path = \"./test_imgs_out\"\n",
    "#     cv2.imwrite(os.path.join(path, eachimg),weighted)\n",
    "#     #urllib.urlretrieve('/home/yuchen/Self-Driving1/project1: find-line/test_imgs_out', weighted)\n",
    "#     #plt.imshow(weighted)\n",
    "#     #n=n+1\n",
    "    \n",
    "#  #   greyedimg=grayscale()"
   ]
  },
  {
   "cell_type": "code",
   "execution_count": 15,
   "metadata": {
    "scrolled": false
   },
   "outputs": [],
   "source": [
    "#import lib to edit/save/watch vidoes\n",
    "from moviepy.editor import VideoFileClip\n",
    "from IPython.display import HTML\n"
   ]
  },
  {
   "cell_type": "code",
   "execution_count": 34,
   "metadata": {},
   "outputs": [],
   "source": [
    "def process_image(image):\n",
    "\n",
    "    grayed_img=grayscale(image)\n",
    "\n",
    "    #Pdb().set_trace()\n",
    "\n",
    "    blurred_img=gaussian_blur(grayed_img,3)    \n",
    "    cannyed_img=canny(blurred_img,50,150)\n",
    "    \n",
    "    left_bot = [120, 539]\n",
    "    right_bot = [890, 539]\n",
    "    apex = [480, 310]\n",
    "\n",
    "#------------------------highlight, findpoly input\n",
    "    vertices = np.array([[left_bot, right_bot, apex]])\n",
    "    \n",
    "    regioned_img=region_of_interest(cannyed_img,vertices)\n",
    "     \n",
    "    rho = 1 # distance resolution in pixels of the Hough grid\n",
    "    theta = np.pi/180 # angular resolution in radians of the Hough grid\n",
    "    threshold = 15     # minimum number of votes (intersections in Hough grid cell)\n",
    "    min_line_len = 40  #minimum number of pixels making up a line\n",
    "    max_line_gap = 20    # maximum gap in pixels between connectable line segments\n",
    "    #line_image = np.copy(image)*0 # creating a blank to draw lines on\n",
    "\n",
    "    lines = hough_lines(regioned_img, rho, theta, threshold, min_line_len, max_line_gap)\n",
    "    \n",
    "    weighted = weighted_img(lines,image,α=0.8, β=1., λ=0.)\n",
    "\n",
    "    result = weighted\n",
    "    \n",
    "    \n",
    "    return result\n"
   ]
  },
  {
   "cell_type": "code",
   "execution_count": null,
   "metadata": {},
   "outputs": [],
   "source": []
  },
  {
   "cell_type": "code",
   "execution_count": 35,
   "metadata": {},
   "outputs": [
    {
     "name": "stdout",
     "output_type": "stream",
     "text": [
      "[MoviePy] >>>> Building video test_videos_output/solidWhiteRight.mp4\n",
      "[MoviePy] Writing video test_videos_output/solidWhiteRight.mp4\n"
     ]
    },
    {
     "name": "stderr",
     "output_type": "stream",
     "text": [
      " 99%|█████████▉| 125/126 [00:08<00:00, 12.87it/s]\n"
     ]
    },
    {
     "name": "stdout",
     "output_type": "stream",
     "text": [
      "[MoviePy] Done.\n",
      "[MoviePy] >>>> Video ready: test_videos_output/solidWhiteRight.mp4 \n",
      "\n",
      "CPU times: user 1.41 s, sys: 92 ms, total: 1.5 s\n",
      "Wall time: 10.8 s\n"
     ]
    }
   ],
   "source": [
    "white_output = 'test_videos_output/solidWhiteRight.mp4'\n",
    "#clip1 = VideoFileClip(\"test_videos/solidWhiteRight.mp4\")\n",
    "\n",
    "# 0 to 5s of clip\n",
    "clip1 = VideoFileClip(\"test_videos/solidWhiteRight.mp4\").subclip(0,5)\n",
    "white_clip = clip1.fl_image(process_image)\n",
    "\n",
    "%time white_clip.write_videofile(white_output, audio=False)\n"
   ]
  },
  {
   "cell_type": "code",
   "execution_count": 36,
   "metadata": {
    "scrolled": true
   },
   "outputs": [
    {
     "data": {
      "text/html": [
       "<video width=\"960\" height=\"540\" controls>\n",
       "    <source src=\"test_videos_output/solidWhiteRight.mp4\">\n",
       "</video>\n"
      ],
      "text/plain": [
       "<IPython.core.display.HTML object>"
      ]
     },
     "execution_count": 36,
     "metadata": {},
     "output_type": "execute_result"
    }
   ],
   "source": [
    "#play videoes in line\n",
    "\n",
    "\n",
    "HTML(\"\"\"<video width=\"960\" height=\"540\" controls>\n",
    "    <source src=\"{0}\">\n",
    "</video>\n",
    "\"\"\".format(white_output))\n",
    "     "
   ]
  },
  {
   "cell_type": "code",
   "execution_count": null,
   "metadata": {},
   "outputs": [],
   "source": []
  },
  {
   "cell_type": "code",
   "execution_count": null,
   "metadata": {},
   "outputs": [],
   "source": []
  }
 ],
 "metadata": {
  "kernelspec": {
   "display_name": "Python 3",
   "language": "python",
   "name": "python3"
  },
  "language_info": {
   "codemirror_mode": {
    "name": "ipython",
    "version": 3
   },
   "file_extension": ".py",
   "mimetype": "text/x-python",
   "name": "python",
   "nbconvert_exporter": "python",
   "pygments_lexer": "ipython3",
   "version": "3.5.2"
  }
 },
 "nbformat": 4,
 "nbformat_minor": 2
}
