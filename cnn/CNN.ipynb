{
 "cells": [
  {
   "cell_type": "code",
   "execution_count": null,
   "metadata": {},
   "outputs": [],
   "source": [
    "#1 intro to CNN\n",
    "#2 color\n",
    "#3 translation invrainace: different positions, same kitten\n",
    "#     weight shareing: two inputs can conatin the same info, train the weight\n",
    "#4 CNN: nn shares params across the space\n",
    "    pancake(feature map): depth, width, height\n",
    "        take a small patch/kernel and run a nn\n",
    "        slide the nn across the img without chaning weight\n",
    "        output-- differnt width, height, depth  --called convolution\n",
    "            going to have stacks of convelotions\n",
    "            \n",
    "    stride: num of pixels every time moveing( 2 is roughly half of size)\n",
    "        \n",
    "    valid padding\n",
    "    same padding\n",
    "    \n",
    "#5 intuition :the CNN learns all of this on its own.\n",
    "#6 filters:\n",
    "    1st step for cnn is to break upu the img into smaller pcs\n",
    "        do this by selectig a width and height that defines a filter\n",
    "        The amount by which the filter slides is referred to as the 'stride'. The stride is a hyperparameter which you, \n",
    "        the engineer, can tune. \n",
    "            Increasing the stride reduces the size of your model by reducing the number of total patches each layer observes.\n",
    "                --> reduction in accuracy\n",
    "                "
   ]
  }
 ],
 "metadata": {
  "kernelspec": {
   "display_name": "Python 3",
   "language": "python",
   "name": "python3"
  },
  "language_info": {
   "codemirror_mode": {
    "name": "ipython",
    "version": 3
   },
   "file_extension": ".py",
   "mimetype": "text/x-python",
   "name": "python",
   "nbconvert_exporter": "python",
   "pygments_lexer": "ipython3",
   "version": "3.5.2"
  }
 },
 "nbformat": 4,
 "nbformat_minor": 2
}
